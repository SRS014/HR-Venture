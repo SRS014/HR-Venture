{
 "cells": [
  {
   "cell_type": "markdown",
   "metadata": {},
   "source": [
    "Python Class-01 Code"
   ]
  },
  {
   "cell_type": "code",
   "execution_count": null,
   "metadata": {},
   "outputs": [],
   "source": [
    "#First Code, Create a Normal Calculator.....\n",
    "\n",
    "print(\"Choose the operation, which operation do you perform?\\n1.Addition.\\n2.Subtraction.\\n3.Multiplication.\\n4.Division.\")\n",
    "operation = int(input(\"Enter which operation do you want: \"))\n",
    "\n",
    "num1 = int(input(\"Enter the Number1: \")) \n",
    "num2 = int(input(\"Enter the Number2: \"))\n",
    "\n",
    "if(operation==1):    \n",
    "    result = num1+num2\n",
    "elif(operation==2):    \n",
    "    result = num1-num2\n",
    "elif(operation==3):    \n",
    "    result = num1*num2\n",
    "elif(operation==4):    \n",
    "    result = num1/num2\n",
    "\n",
    "print(\"The Result is:\", result)"
   ]
  },
  {
   "cell_type": "markdown",
   "metadata": {},
   "source": [
    "Data Types"
   ]
  },
  {
   "cell_type": "code",
   "execution_count": 1,
   "metadata": {},
   "outputs": [
    {
     "name": "stdout",
     "output_type": "stream",
     "text": [
      "<class 'str'>\n",
      "<class 'str'>\n"
     ]
    }
   ],
   "source": [
    "#string\n",
    "name = \" S R Sohan\"\n",
    "name1 = \"Sara\"\n",
    "name2 = \"Father's\"\n",
    "\n",
    "print(type(name))\n",
    "num = str(10000)\n",
    "print(type(num))\n"
   ]
  },
  {
   "cell_type": "markdown",
   "metadata": {},
   "source": [
    "Some Built-in Functions:"
   ]
  },
  {
   "cell_type": "code",
   "execution_count": 3,
   "metadata": {},
   "outputs": [
    {
     "data": {
      "text/plain": [
       "'SohanSohan'"
      ]
     },
     "execution_count": 3,
     "metadata": {},
     "output_type": "execute_result"
    }
   ],
   "source": [
    "name.upper()\n",
    "name.lower()\n",
    "name.title()\n",
    "name.capitalize()\n",
    "name.count('S')\n",
    "name.find('a')\n",
    "name.endswith('han')\n",
    "name.startswith('SR')\n",
    "name.isalpha()\n",
    "name.isnumeric()\n",
    "name.split('a')\n",
    "name + name1\n",
    "name*2"
   ]
  },
  {
   "cell_type": "code",
   "execution_count": 7,
   "metadata": {},
   "outputs": [
    {
     "data": {
      "text/plain": [
       "9"
      ]
     },
     "execution_count": 7,
     "metadata": {},
     "output_type": "execute_result"
    }
   ],
   "source": [
    "#Interger\n",
    "num = 100\n",
    "type(num)\n",
    "float(num)\n",
    "int(\"9\")"
   ]
  },
  {
   "cell_type": "code",
   "execution_count": 8,
   "metadata": {},
   "outputs": [
    {
     "data": {
      "text/plain": [
       "8"
      ]
     },
     "execution_count": 8,
     "metadata": {},
     "output_type": "execute_result"
    }
   ],
   "source": [
    "#Floating\n",
    "fnum = 8.33\n",
    "type(fnum)\n",
    "int(fnum)"
   ]
  },
  {
   "cell_type": "code",
   "execution_count": 11,
   "metadata": {},
   "outputs": [
    {
     "name": "stdout",
     "output_type": "stream",
     "text": [
      "True\n"
     ]
    },
    {
     "data": {
      "text/plain": [
       "bool"
      ]
     },
     "execution_count": 11,
     "metadata": {},
     "output_type": "execute_result"
    }
   ],
   "source": [
    "#Boolean\n",
    "is_voter = True\n",
    "print(is_married)\n",
    "type(is_married)"
   ]
  },
  {
   "cell_type": "code",
   "execution_count": 14,
   "metadata": {},
   "outputs": [
    {
     "data": {
      "text/plain": [
       "False"
      ]
     },
     "execution_count": 14,
     "metadata": {},
     "output_type": "execute_result"
    }
   ],
   "source": [
    "#complex\n",
    "c = 2+3j\n",
    "type(c)\n",
    "complex(num)\n",
    "bool(None)"
   ]
  },
  {
   "cell_type": "code",
   "execution_count": 22,
   "metadata": {},
   "outputs": [
    {
     "name": "stdout",
     "output_type": "stream",
     "text": [
      "Name: Jara Age: 10 Weight: 18\n",
      "Name: Jara Age: 10 Weight: 18\n",
      "Name: Jara Age: 10 Weight: 18.00\n",
      "Name: Jara Age: 10 weight: 18\n"
     ]
    }
   ],
   "source": [
    "#String Fromatting\n",
    "name = 'Jara'\n",
    "age  = 10\n",
    "weight = 18\n",
    "print(\"Name:\",name, \"Age:\", age, \"Weight:\",weight)\n",
    "print(\"Name: {0} Age: {1} Weight: {2}\".format(name,age,weight))\n",
    "print(\"Name: %s Age: %d Weight: %.2f\" %(name,age,weight)) \n",
    "print(f\"Name: {name} Age: {age} weight: {weight}\")"
   ]
  }
 ],
 "metadata": {
  "interpreter": {
   "hash": "eeffcbfdc82f791be735de450606523731ac48648be64e98190a58510bf1882b"
  },
  "kernelspec": {
   "display_name": "Python 3.10.0 64-bit",
   "language": "python",
   "name": "python3"
  },
  "language_info": {
   "codemirror_mode": {
    "name": "ipython",
    "version": 3
   },
   "file_extension": ".py",
   "mimetype": "text/x-python",
   "name": "python",
   "nbconvert_exporter": "python",
   "pygments_lexer": "ipython3",
   "version": "3.10.0"
  },
  "orig_nbformat": 4
 },
 "nbformat": 4,
 "nbformat_minor": 2
}
