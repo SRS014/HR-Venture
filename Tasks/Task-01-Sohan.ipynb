{
 "cells": [
  {
   "cell_type": "markdown",
   "metadata": {},
   "source": [
    "Task-01\n",
    "Program for Smart Door \n",
    "\n",
    "## Password = \"open@door\"\n",
    "## Take Password from user\n",
    "## It will match The Password\n",
    "## If matches the doee will open, else it will wrong password try again\n",
    "## maximum try should be 3 times, after that door will be locked\n",
    "## Resetting Password"
   ]
  },
  {
   "cell_type": "code",
   "execution_count": 14,
   "metadata": {},
   "outputs": [
    {
     "name": "stdout",
     "output_type": "stream",
     "text": [
      "Choose Your Option. What You want to do?\n",
      "1. Open The Door?.\n",
      "2. Reset Password?\n",
      "3. Exit?\n",
      "\n",
      "Enter The Door Password: \n",
      "Incorrect Password! Try Again.\n",
      "\n",
      "Enter The Door Password: \n",
      "Incorrect Password! Try Again.\n",
      "\n",
      "Enter The Door Password: \n",
      "Incorrect Password! Try Again.\n",
      "\n",
      "Automatically Locked The Door!\n",
      "\n",
      "Choose Your Option. What You want to do?\n",
      "1. Open The Door?.\n",
      "2. Reset Password?\n",
      "3. Exit?\n",
      "\n",
      "Enter The Door Password: \n",
      "Opened The Door Succesfully!\n",
      "Choose Your Option. What You want to do?\n",
      "1. Open The Door?.\n",
      "2. Reset Password?\n",
      "3. Exit?\n",
      "\n",
      "Give some information: \n",
      "1. User Name.\n",
      "2. Mobile No.\n"
     ]
    },
    {
     "ename": "ValueError",
     "evalue": "invalid literal for int() with base 10: 'soha'",
     "output_type": "error",
     "traceback": [
      "\u001b[1;31m---------------------------------------------------------------------------\u001b[0m",
      "\u001b[1;31mValueError\u001b[0m                                Traceback (most recent call last)",
      "\u001b[1;32mC:\\Users\\SRSOHA~1\\AppData\\Local\\Temp/ipykernel_4348/625927462.py\u001b[0m in \u001b[0;36m<module>\u001b[1;34m\u001b[0m\n\u001b[0;32m     33\u001b[0m         \u001b[1;32mwhile\u001b[0m\u001b[1;33m(\u001b[0m\u001b[0ms\u001b[0m\u001b[1;33m>\u001b[0m\u001b[1;36m0\u001b[0m\u001b[1;33m)\u001b[0m\u001b[1;33m:\u001b[0m\u001b[1;33m\u001b[0m\u001b[1;33m\u001b[0m\u001b[0m\n\u001b[0;32m     34\u001b[0m             \u001b[0mUserName\u001b[0m \u001b[1;33m=\u001b[0m \u001b[0minput\u001b[0m\u001b[1;33m(\u001b[0m\u001b[1;34m\"\\nEnter User Name No: \"\u001b[0m\u001b[1;33m)\u001b[0m\u001b[1;33m\u001b[0m\u001b[1;33m\u001b[0m\u001b[0m\n\u001b[1;32m---> 35\u001b[1;33m             \u001b[0mMobNo\u001b[0m \u001b[1;33m=\u001b[0m \u001b[0mint\u001b[0m\u001b[1;33m(\u001b[0m\u001b[0minput\u001b[0m\u001b[1;33m(\u001b[0m\u001b[1;34m\"\\nEnter Mobile No: \"\u001b[0m\u001b[1;33m)\u001b[0m\u001b[1;33m)\u001b[0m\u001b[1;33m\u001b[0m\u001b[1;33m\u001b[0m\u001b[0m\n\u001b[0m\u001b[0;32m     36\u001b[0m             \u001b[1;32mif\u001b[0m\u001b[1;33m(\u001b[0m\u001b[0mUser_Name\u001b[0m \u001b[1;33m==\u001b[0m \u001b[0mUserName\u001b[0m \u001b[1;32mand\u001b[0m \u001b[0mMob\u001b[0m \u001b[1;33m==\u001b[0m \u001b[0mMobNo\u001b[0m\u001b[1;33m)\u001b[0m\u001b[1;33m:\u001b[0m\u001b[1;33m\u001b[0m\u001b[1;33m\u001b[0m\u001b[0m\n\u001b[0;32m     37\u001b[0m                 \u001b[0mNewPass\u001b[0m \u001b[1;33m=\u001b[0m \u001b[0minput\u001b[0m\u001b[1;33m(\u001b[0m\u001b[1;34m\"\\nEnter New Password: \"\u001b[0m\u001b[1;33m)\u001b[0m\u001b[1;33m\u001b[0m\u001b[1;33m\u001b[0m\u001b[0m\n",
      "\u001b[1;31mValueError\u001b[0m: invalid literal for int() with base 10: 'soha'"
     ]
    }
   ],
   "source": [
    "#Program\n",
    "\n",
    "    #Program\n",
    "j = 1\n",
    "psd = \"open@door\"\n",
    "while(j>0):\n",
    "    print(\"Choose Your Option. What You want to do?\\n1. Open The Door?.\\n2. Reset Password?\\n3. Exit?\")\n",
    "    \n",
    "    temp = int(input(\"Enter The Option: \"))\n",
    "    \n",
    "\n",
    "    if(temp == 1):\n",
    "        i = 0\n",
    "        while(i < 3): \n",
    "            print('\\nEnter The Door Password: ')\n",
    "            inp = input()\n",
    "            if(inp == psd):\n",
    "                print(\"Opened The Door Succesfully!\")\n",
    "                break\n",
    "            else:\n",
    "                print(\"Incorrect Password! Try Again.\")\n",
    "            i = i+1    \n",
    "        else:\n",
    "            print(\"\\nAutomatically Locked The Door!\\n\")\n",
    "\n",
    "    elif(temp == 2):\n",
    "        \n",
    "        print(\"\\nGive some information: \\n1. User Name.\\n2. Mobile No.\")\n",
    "        User_Name = 'Sohan'\n",
    "        Mob = 1773008535\n",
    "        \n",
    "        s = 1\n",
    "        while(s>0):\n",
    "            UserName = input(\"\\nEnter User Name No: \")\n",
    "            MobNo = int(input(\"\\nEnter Mobile No: \"))\n",
    "            if(User_Name == UserName and Mob == MobNo):\n",
    "                NewPass = input(\"\\nEnter New Password: \")\n",
    "                ConfiNewPass = input(\"\\nEnter Confirm New Password: \")\n",
    "                \n",
    "                if(NewPass == ConfiNewPass):\n",
    "                \n",
    "                    temp = NewPass\n",
    "                    NewPass = ConfiNewPass\n",
    "                    ConfiNewPass = temp\n",
    "\n",
    "                    psd = temp\n",
    "                print(\"Password Reset Successfully!\")\n",
    "                break\n",
    "                \n",
    "            else:\n",
    "                print(\"Incorret User Name and Mobile No.\")\n",
    "            s = s+1\n",
    "        \n",
    "    elif(temp == 3):\n",
    "        print(\"Exit From 'Smart Door Lock System!'\")\n",
    "        break\n",
    "    j = j+1 "
   ]
  }
 ],
 "metadata": {
  "interpreter": {
   "hash": "eeffcbfdc82f791be735de450606523731ac48648be64e98190a58510bf1882b"
  },
  "kernelspec": {
   "display_name": "Python 3.10.0 64-bit",
   "language": "python",
   "name": "python3"
  },
  "language_info": {
   "codemirror_mode": {
    "name": "ipython",
    "version": 3
   },
   "file_extension": ".py",
   "mimetype": "text/x-python",
   "name": "python",
   "nbconvert_exporter": "python",
   "pygments_lexer": "ipython3",
   "version": "3.10.0"
  },
  "orig_nbformat": 4
 },
 "nbformat": 4,
 "nbformat_minor": 2
}
