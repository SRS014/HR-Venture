{
 "cells": [
  {
   "cell_type": "markdown",
   "metadata": {},
   "source": [
    "Task-01\n",
    "# Program for Smart Door \n",
    "# Password = \"open@door\"\n",
    "# Take Password from user\n",
    "# It will match The Password\n",
    "# If matches the doee will open, else it will wrong password try again\n",
    "# maximum try should be 3 times, after that door will be locked\n",
    "# Resetting Password"
   ]
  },
  {
   "cell_type": "code",
   "execution_count": 18,
   "metadata": {},
   "outputs": [
    {
     "name": "stdout",
     "output_type": "stream",
     "text": [
      "Wrong Password! Try Again.\n",
      "Wrong Password! Try Again.\n",
      "Wrong Password! Try Again.\n"
     ]
    }
   ],
   "source": [
    "#Program\n",
    "\n",
    "i = 0\n",
    "while(i < 3): \n",
    "    psd = \"open@door\"\n",
    "    inp = input('Enter The Door Password: ')\n",
    "    if(inp == psd):\n",
    "        print(\"Opened The Door!\")\n",
    "        break\n",
    "    else:\n",
    "        print(\"Wrong Password! Try Again.\")\n",
    "    i = i+1    \n",
    "\n",
    "        \n",
    "\n",
    "\n"
   ]
  }
 ],
 "metadata": {
  "interpreter": {
   "hash": "eeffcbfdc82f791be735de450606523731ac48648be64e98190a58510bf1882b"
  },
  "kernelspec": {
   "display_name": "Python 3.10.0 64-bit",
   "language": "python",
   "name": "python3"
  },
  "language_info": {
   "codemirror_mode": {
    "name": "ipython",
    "version": 3
   },
   "file_extension": ".py",
   "mimetype": "text/x-python",
   "name": "python",
   "nbconvert_exporter": "python",
   "pygments_lexer": "ipython3",
   "version": "3.10.0"
  },
  "orig_nbformat": 4
 },
 "nbformat": 4,
 "nbformat_minor": 2
}
