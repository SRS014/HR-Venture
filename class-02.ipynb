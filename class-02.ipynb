{
 "cells": [
  {
   "cell_type": "markdown",
   "metadata": {},
   "source": [
    "Adv. Data Types"
   ]
  },
  {
   "cell_type": "code",
   "execution_count": 2,
   "metadata": {},
   "outputs": [
    {
     "data": {
      "text/plain": [
       "[-22, 1, 2, 3, 4, 'sohan', True, 1000, 10, 155, 10000, 10, 40.3]"
      ]
     },
     "execution_count": 2,
     "metadata": {},
     "output_type": "execute_result"
    }
   ],
   "source": [
    "#List\n",
    "roll = [1,2,3,4,'sohan', True, 4.88]\n",
    "#Acess Values\n",
    "roll[5] \n",
    "roll[3]\n",
    "roll[-1] # Accessing the value from the end\n",
    "#Update the value of list\n",
    "roll[6] = 1000 #Update single value\n",
    "roll[9:10] = 10,155\n",
    "roll\n",
    "#Accessing the multiple values using list\n",
    "roll[1:4]\n",
    "#Accesing the mutlple values from the last end\n",
    "roll[-2:-4] # This is not give any output for the wrong indexing issue...\n",
    "roll[-4:-2]\n",
    "roll[3:]\n",
    "roll[:2]\n",
    "\n",
    "#Funtion\n",
    "len(roll)\n",
    "roll.append(10000)\n",
    "roll \n",
    "roll.insert(0,-22)\n",
    "roll.count(33)\n",
    "roll.extend([10,40.3,'Sara'])\n",
    "roll.pop()\n",
    "roll"
   ]
  },
  {
   "cell_type": "code",
   "execution_count": 5,
   "metadata": {},
   "outputs": [
    {
     "data": {
      "text/plain": [
       "[-22, 1, 2, 3, 4, 'sohan', True, 1000, 10, 155, 10000, 10, 40.3, 10000000]"
      ]
     },
     "execution_count": 5,
     "metadata": {},
     "output_type": "execute_result"
    }
   ],
   "source": [
    "#ShallowCopy will add the value into the original variable\n",
    "shallowCopy = roll\n",
    "shallowCopy.append(10000000)\n",
    "roll"
   ]
  },
  {
   "cell_type": "code",
   "execution_count": 6,
   "metadata": {},
   "outputs": [
    {
     "data": {
      "text/plain": [
       "[-22, 1, 2, 3, 4, 'sohan', True, 1000, 10, 155, 10000, 10, 40.3, 10000000]"
      ]
     },
     "execution_count": 6,
     "metadata": {},
     "output_type": "execute_result"
    }
   ],
   "source": [
    "#DeepCopy will not add the value into the original variable\n",
    "deepCopy = roll.copy()\n",
    "deepCopy.append(9852555)\n",
    "roll"
   ]
  },
  {
   "cell_type": "markdown",
   "metadata": {},
   "source": [
    "Tuple()"
   ]
  },
  {
   "cell_type": "code",
   "execution_count": 9,
   "metadata": {},
   "outputs": [
    {
     "data": {
      "text/plain": [
       "[3, 1, 8, 8, 34, 67, 4, 3, 7]"
      ]
     },
     "execution_count": 9,
     "metadata": {},
     "output_type": "execute_result"
    }
   ],
   "source": [
    "t = (3,1,8,8,34,67,4,3,7,)\n",
    "t.count(8)\n",
    "t.index(67)\n",
    "tuple(roll)\n",
    "list(t)\n",
    "del t[0]"
   ]
  },
  {
   "cell_type": "code",
   "execution_count": 24,
   "metadata": {},
   "outputs": [
    {
     "data": {
      "text/plain": [
       "{2, 3, 5, 6, 588}"
      ]
     },
     "execution_count": 24,
     "metadata": {},
     "output_type": "execute_result"
    }
   ],
   "source": [
    "#Set\n",
    "s1 = {3,2,5,1,5,6,7,588,75}\n",
    "s2 = {4,5,6,88,100,56,45}\n",
    "s1.difference(s2)\n",
    "s2.difference(s1)\n",
    "s1.intersection(s2)\n",
    "s1.union(s2)\n",
    "s1.symmetric_difference(s2)\n",
    "s1.pop()\n",
    "s1.remove(7)\n",
    "s1.discard(75)\n",
    "s1"
   ]
  },
  {
   "cell_type": "code",
   "execution_count": 34,
   "metadata": {},
   "outputs": [
    {
     "data": {
      "text/plain": [
       "{'Roll': 14,\n",
       " 'Name': 'Sohan',\n",
       " 'Branch': 'CSE',\n",
       " 'CGPA': 3.78,\n",
       " 2: 4,\n",
       " 4: 6,\n",
       " 3: 'Default'}"
      ]
     },
     "execution_count": 34,
     "metadata": {},
     "output_type": "execute_result"
    }
   ],
   "source": [
    "#Dictionary\n",
    "d = {\"Roll\":1, \"Name\": \"Sohan\", \"Branch\": \"CSE\", \"Age\": 24, \"CGPA\": 3.78}\n",
    "d\n",
    "d.get(\"Name\")\n",
    "d.get(\"Branch\")\n",
    "d[\"Roll\"] = 14\n",
    "\n",
    "#Using Some Fucntions\n",
    "d.keys()\n",
    "d.values()\n",
    "d.items()\n",
    "#Update\n",
    "d[\"Subs\"] = [\"Math\", \"C\"]\n",
    "d[\"Subs\"][0]\n",
    "#Remove\n",
    "d.pop(\"Age\")\n",
    "d\n",
    "d.popitem()\n",
    "d.update({2:4,4:6})\n",
    "d\n",
    "d.setdefault(3,\"Default\")\n",
    "d.fromkeys([6,5,8],\"Default\")\n",
    "d"
   ]
  },
  {
   "cell_type": "markdown",
   "metadata": {},
   "source": [
    "Some Different Concept"
   ]
  },
  {
   "cell_type": "code",
   "execution_count": 3,
   "metadata": {},
   "outputs": [
    {
     "ename": "TypeError",
     "evalue": "unsupported operand type(s) for +: 'set' and 'set'",
     "output_type": "error",
     "traceback": [
      "\u001b[1;31m---------------------------------------------------------------------------\u001b[0m",
      "\u001b[1;31mTypeError\u001b[0m                                 Traceback (most recent call last)",
      "\u001b[1;32mC:\\Users\\SRSOHA~1\\AppData\\Local\\Temp/ipykernel_1596/507488432.py\u001b[0m in \u001b[0;36m<module>\u001b[1;34m\u001b[0m\n\u001b[0;32m      1\u001b[0m \u001b[1;33m[\u001b[0m\u001b[1;36m2\u001b[0m\u001b[1;33m,\u001b[0m\u001b[1;36m4\u001b[0m\u001b[1;33m,\u001b[0m\u001b[1;36m6\u001b[0m\u001b[1;33m]\u001b[0m \u001b[1;33m+\u001b[0m \u001b[1;33m[\u001b[0m\u001b[1;36m4\u001b[0m\u001b[1;33m,\u001b[0m\u001b[1;36m5\u001b[0m\u001b[1;33m,\u001b[0m\u001b[1;36m8\u001b[0m\u001b[1;33m]\u001b[0m \u001b[1;31m#Merge two lists\u001b[0m\u001b[1;33m\u001b[0m\u001b[1;33m\u001b[0m\u001b[0m\n\u001b[0;32m      2\u001b[0m \u001b[1;33m(\u001b[0m\u001b[1;36m2\u001b[0m\u001b[1;33m,\u001b[0m\u001b[1;36m4\u001b[0m\u001b[1;33m,\u001b[0m\u001b[1;36m5\u001b[0m\u001b[1;33m)\u001b[0m \u001b[1;33m+\u001b[0m \u001b[1;33m(\u001b[0m\u001b[1;36m4\u001b[0m\u001b[1;33m,\u001b[0m\u001b[1;36m7\u001b[0m\u001b[1;33m,\u001b[0m\u001b[1;36m9\u001b[0m\u001b[1;33m)\u001b[0m \u001b[1;31m#Merge two tuple\u001b[0m\u001b[1;33m\u001b[0m\u001b[1;33m\u001b[0m\u001b[0m\n\u001b[1;32m----> 3\u001b[1;33m \u001b[1;33m{\u001b[0m\u001b[1;36m2\u001b[0m\u001b[1;33m,\u001b[0m\u001b[1;36m5\u001b[0m\u001b[1;33m,\u001b[0m\u001b[1;36m6\u001b[0m\u001b[1;33m,\u001b[0m\u001b[1;36m9\u001b[0m\u001b[1;33m}\u001b[0m \u001b[1;33m+\u001b[0m \u001b[1;33m{\u001b[0m\u001b[1;36m4\u001b[0m\u001b[1;33m,\u001b[0m\u001b[1;36m8\u001b[0m\u001b[1;33m,\u001b[0m\u001b[1;36m9\u001b[0m\u001b[1;33m,\u001b[0m\u001b[1;36m10\u001b[0m\u001b[1;33m}\u001b[0m \u001b[1;31m#Megring is not possible into the set bcz of indexing.....\u001b[0m\u001b[1;33m\u001b[0m\u001b[1;33m\u001b[0m\u001b[0m\n\u001b[0m\u001b[0;32m      4\u001b[0m \u001b[1;33m{\u001b[0m\u001b[1;36m2\u001b[0m\u001b[1;33m:\u001b[0m\u001b[1;36m4\u001b[0m\u001b[1;33m,\u001b[0m\u001b[1;36m4\u001b[0m\u001b[1;33m:\u001b[0m\u001b[1;36m6\u001b[0m\u001b[1;33m}\u001b[0m \u001b[1;33m+\u001b[0m \u001b[1;33m{\u001b[0m\u001b[1;36m5\u001b[0m\u001b[1;33m:\u001b[0m\u001b[1;36m6\u001b[0m\u001b[1;33m,\u001b[0m\u001b[1;36m9\u001b[0m\u001b[1;33m:\u001b[0m\u001b[1;36m10\u001b[0m\u001b[1;33m}\u001b[0m\u001b[1;33m\u001b[0m\u001b[1;33m\u001b[0m\u001b[0m\n",
      "\u001b[1;31mTypeError\u001b[0m: unsupported operand type(s) for +: 'set' and 'set'"
     ]
    }
   ],
   "source": [
    "[2,4,6] + [4,5,8] #Merge two lists\n",
    "(2,4,5) + (4,7,9) #Merge two tuple\n",
    "{2,5,6,9} + {4,8,9,10} #Megring is not possible into the set bcz of indexing.....\n",
    "{2:4,4:6} + {5:6,9:10} #Megring is not possible into the dictionary bcz of indexing....."
   ]
  },
  {
   "cell_type": "code",
   "execution_count": null,
   "metadata": {},
   "outputs": [],
   "source": [
    "#Arithmatic Operator\n",
    "2 +3\n",
    "2*3\n",
    "2-3\n",
    "4/2\n",
    "4//3\n",
    "5%2"
   ]
  },
  {
   "cell_type": "code",
   "execution_count": 6,
   "metadata": {},
   "outputs": [
    {
     "data": {
      "text/plain": [
       "True"
      ]
     },
     "execution_count": 6,
     "metadata": {},
     "output_type": "execute_result"
    }
   ],
   "source": [
    "#Special Operator\n",
    "\"P\" in \"Python\"\n",
    "\"300\" in \"01773008535\"\n",
    "\"500\" in \"01773008535\"\n",
    "\n",
    "3.0 == 3\n",
    "v = 3.0 is 3\n",
    "print(v)"
   ]
  }
 ],
 "metadata": {
  "interpreter": {
   "hash": "eeffcbfdc82f791be735de450606523731ac48648be64e98190a58510bf1882b"
  },
  "kernelspec": {
   "display_name": "Python 3.10.0 64-bit",
   "language": "python",
   "name": "python3"
  },
  "language_info": {
   "codemirror_mode": {
    "name": "ipython",
    "version": 3
   },
   "file_extension": ".py",
   "mimetype": "text/x-python",
   "name": "python",
   "nbconvert_exporter": "python",
   "pygments_lexer": "ipython3",
   "version": "3.10.0"
  },
  "orig_nbformat": 4
 },
 "nbformat": 4,
 "nbformat_minor": 2
}
